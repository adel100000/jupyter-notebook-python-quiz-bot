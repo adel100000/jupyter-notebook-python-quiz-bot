{
 "cells": [
  {
   "cell_type": "code",
   "execution_count": 1,
   "id": "0b294bd8-0902-4b18-a011-eec3b3f33616",
   "metadata": {},
   "outputs": [
    {
     "name": "stdout",
     "output_type": "stream",
     "text": [
      "What is the force on an object of mass 5 kg accelerating at 3 m/s²? (F = ma)\n"
     ]
    },
    {
     "name": "stdin",
     "output_type": "stream",
     "text": [
      "Your answer:  9\n"
     ]
    },
    {
     "name": "stdout",
     "output_type": "stream",
     "text": [
      "Incorrect. The correct answer is: 15\n",
      "\n",
      "What is the derivative of x^2?\n"
     ]
    },
    {
     "name": "stdin",
     "output_type": "stream",
     "text": [
      "Your answer:  4\n"
     ]
    },
    {
     "name": "stdout",
     "output_type": "stream",
     "text": [
      "Incorrect. The correct answer is: 2x\n",
      "\n",
      "If a wave has frequency 10 Hz, what is its period?\n"
     ]
    },
    {
     "name": "stdin",
     "output_type": "stream",
     "text": [
      "Your answer:  0.1\n"
     ]
    },
    {
     "name": "stdout",
     "output_type": "stream",
     "text": [
      "Correct!\n",
      "\n",
      "What is 12 + 7?\n"
     ]
    },
    {
     "name": "stdin",
     "output_type": "stream",
     "text": [
      "Your answer:  19\n"
     ]
    },
    {
     "name": "stdout",
     "output_type": "stream",
     "text": [
      "Correct!\n",
      "\n",
      "You got 2 out of 4 correct.\n"
     ]
    }
   ],
   "source": [
    "import random\n",
    "\n",
    "# A list of quiz questions with their answers\n",
    "questions = [\n",
    "    {\n",
    "        \"question\": \"What is 12 + 7?\",\n",
    "        \"answer\": \"19\"\n",
    "    },\n",
    "    {\n",
    "        \"question\": \"What is the force on an object of mass 5 kg accelerating at 3 m/s²? (F = ma)\",\n",
    "        \"answer\": \"15\"\n",
    "    },\n",
    "    {\n",
    "        \"question\": \"What is the derivative of x^2?\",\n",
    "        \"answer\": \"2x\"\n",
    "    },\n",
    "    {\n",
    "        \"question\": \"If a wave has frequency 10 Hz, what is its period?\",\n",
    "        \"answer\": \"0.1\"\n",
    "    }\n",
    "]\n",
    "\n",
    "def ask_question(q):\n",
    "    print(q[\"question\"])\n",
    "    user_answer = input(\"Your answer: \").strip()\n",
    "    \n",
    "    if user_answer.lower() == q[\"answer\"].lower():\n",
    "        print(\"Correct!\\n\")\n",
    "        return True\n",
    "    else:\n",
    "        print(f\"Incorrect. The correct answer is: {q['answer']}\\n\")\n",
    "        return False\n",
    "\n",
    "def run_quiz(questions, num_questions=5):\n",
    "    score = 0\n",
    "    selected_questions = random.sample(questions, min(num_questions, len(questions)))\n",
    "    \n",
    "    for question in selected_questions:\n",
    "        if ask_question(question):\n",
    "            score += 1\n",
    "    \n",
    "    print(f\"You got {score} out of {len(selected_questions)} correct.\")\n",
    "\n",
    "# Run the quiz\n",
    "run_quiz(questions)\n"
   ]
  },
  {
   "cell_type": "code",
   "execution_count": null,
   "id": "a4e73971-b4b9-40ee-bd22-e5ccc686c09e",
   "metadata": {},
   "outputs": [],
   "source": []
  }
 ],
 "metadata": {
  "kernelspec": {
   "display_name": "Python [conda env:base] *",
   "language": "python",
   "name": "conda-base-py"
  },
  "language_info": {
   "codemirror_mode": {
    "name": "ipython",
    "version": 3
   },
   "file_extension": ".py",
   "mimetype": "text/x-python",
   "name": "python",
   "nbconvert_exporter": "python",
   "pygments_lexer": "ipython3",
   "version": "3.11.7"
  }
 },
 "nbformat": 4,
 "nbformat_minor": 5
}
